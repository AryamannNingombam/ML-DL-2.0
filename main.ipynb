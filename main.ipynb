{
 "cells": [
  {
   "cell_type": "code",
   "execution_count": 2,
   "metadata": {},
   "outputs": [],
   "source": [
    "import numpy as np\n",
    "import tensorflow as tf\n",
    "import pickle"
   ]
  },
  {
   "cell_type": "code",
   "execution_count": 18,
   "metadata": {},
   "outputs": [
    {
     "name": "stdout",
     "output_type": "stream",
     "text": [
      "(10000, 1024)\n",
      "(10000, 1024)\n",
      "(10000, 1024)\n",
      "(10000, 1024)\n",
      "(10000, 1024)\n",
      "(10000, 1024)\n"
     ]
    }
   ],
   "source": [
    "numberOfBatchFiles = 6\n",
    "metaFileName = \"batches.meta\"\n",
    "batchFileName = \"data_batch_\"\n",
    "allFileContents = []\n",
    "\n",
    "\n",
    "for i in range(numberOfBatchFiles + 1):\n",
    "    \n",
    "    if (i==0):\n",
    "        with open(\"./cifar-10-batches/batches.meta\",\"rb\") as file:\n",
    "            allFileContents.append(pickle.load(file))\n",
    "    else:\n",
    "        fileName = batchFileName + str(i)\n",
    "        with open(\"./cifar-10-batches/\"+fileName,'rb') as file:\n",
    "        \n",
    "            allFileContents.append(pickle.load(file))\n",
    "\n",
    "        \n",
    "keyValuePairsForResults = allFileContents[0]['label_names']\n",
    "batch_X = []\n",
    "batch_Y = []\n",
    "for i in range(numberOfBatchFiles):\n",
    "    temp = np.array(allFileContents[i+1][b'data'])\n",
    "    temp2 = np.array(allFileContents[i+1][b'labels'])\n",
    "    reshaped = temp2.reshape((temp2.shape[0],1))\n",
    "    batch_X.append(temp)\n",
    "    batch_Y.append(reshaped)\n",
    "    \n"
   ]
  },
  {
   "cell_type": "code",
   "execution_count": null,
   "metadata": {},
   "outputs": [],
   "source": [
    "model = tf.keras.models.Sequential([\n",
    "    tf.keras.layers.Dense(1024,activation='relu'),\n",
    "    tf.keras.layers.Dense(512,activation='relu'),\n",
    "    tf.keras.layers.Dropout(0.1),\n",
    "    tf.keras.layers.Dense(8)\n",
    "])\n",
    "\n",
    "for i in range(numberOfBatchFiles * 2):\n",
    "    index = i % numberOfBatchFiles\n",
    "    model.fit(batch_X[index],batch_Y[index],epochs=10)\n",
    "\n",
    "lossfn = tf.keras.losses.SparseCategoricalCrossentropy(from_logits=True)\n",
    "\n"
   ]
  }
 ],
 "metadata": {
  "kernelspec": {
   "display_name": "Python 3",
   "language": "python",
   "name": "python3"
  },
  "language_info": {
   "codemirror_mode": {
    "name": "ipython",
    "version": 3
   },
   "file_extension": ".py",
   "mimetype": "text/x-python",
   "name": "python",
   "nbconvert_exporter": "python",
   "pygments_lexer": "ipython3",
   "version": "3.9.5"
  }
 },
 "nbformat": 4,
 "nbformat_minor": 4
}
